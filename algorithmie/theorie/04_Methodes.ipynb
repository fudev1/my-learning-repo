{
 "cells": [
  {
   "cell_type": "markdown",
   "metadata": {},
   "source": [
    "\n",
    "# Les méthodes\n",
    "\n",
    "### Définition d'une méthode\n",
    "\n",
    "L'utilisation des méthodes permet d'éviter la répétition de codes.(DRY)\n",
    "\n",
    "Pour déclarer une méthode, il faut utiliser le mot clef << def >>.<br>\n",
    "Il en existe deux types:\n",
    "- Procédure → Ne retourne pas de valeur\n",
    "- Fonction  → Retourne une valeur\n",
    "\n",
    "### Exemple de procédure :"
   ]
  },
  {
   "cell_type": "code",
   "execution_count": 3,
   "metadata": {},
   "outputs": [
    {
     "name": "stdout",
     "output_type": "stream",
     "text": [
      "Riri\n",
      "Fifi\n",
      "Loulou\n"
     ]
    }
   ],
   "source": [
    "def show_list(list):\n",
    "    for elem in list:\n",
    "        print(elem)\n",
    "\n",
    "\n",
    "my_list = [\"Riri\", \"Fifi\", \"Loulou\"]\n",
    "show_list(my_list)"
   ]
  },
  {
   "cell_type": "markdown",
   "metadata": {},
   "source": [
    "\n",
    "### Exemple de fonction :\n"
   ]
  },
  {
   "cell_type": "code",
   "execution_count": 4,
   "metadata": {},
   "outputs": [
    {
     "name": "stdout",
     "output_type": "stream",
     "text": [
      "13.5\n"
     ]
    }
   ],
   "source": [
    "def calculate_average(list):\n",
    "    \n",
    "    lenght = len(list)\n",
    "    total = 0\n",
    "    \n",
    "    for elem in list:\n",
    "        total += elem\n",
    "    \n",
    "    return total / lenght\n",
    "\n",
    "\n",
    "results = [12, 20, 15, 7]\n",
    "average = calculate_average(results)\n",
    "print(average)"
   ]
  },
  {
   "cell_type": "markdown",
   "metadata": {},
   "source": [
    "\n",
    "### Les paramètres\n",
    "\n",
    "Les valeurs reçue en paramètres sont copiées dans des variables locales à la méthode."
   ]
  },
  {
   "cell_type": "code",
   "execution_count": null,
   "metadata": {},
   "outputs": [],
   "source": [
    "def demo_modification(value):\n",
    "    value += 1\n",
    "    print(value) # Affichage de la valeur local\n",
    "\n",
    "\n",
    "number = 42\n",
    "print(number) # 42\n",
    "demo_modification(number) # 43\n",
    "print(number) # 42"
   ]
  },
  {
   "cell_type": "markdown",
   "metadata": {},
   "source": [
    "\n",
    "### Variable locale VS variable globale\n",
    "\n",
    "Les variables créées au sein d'une methode n'existe que dans celle-ci.\n",
    "\n",
    "En python, il est possible d'utiliser le mo clef << global >> pour créer ou utiliser une variable en dehors de la zone mémoire de la méthode.\n",
    "\n",
    "<p>&#x26A0 Attention, ceci n' est pas conseillé ! &#x26A0</p>\n",
    "\n"
   ]
  },
  {
   "cell_type": "code",
   "execution_count": null,
   "metadata": {},
   "outputs": [],
   "source": [
    "def demo_variable():\n",
    "    var_local = 42\n",
    "\n",
    "    global var_global\n",
    "    var_global = 1337\n",
    "\n",
    "\n",
    "var_global = 10\n",
    "print(var_global) # 10\n",
    "demo_variable()\n",
    "print(var_global) # 1337\n",
    "print(var_local) # Erreur !"
   ]
  }
 ],
 "metadata": {
  "kernelspec": {
   "display_name": "Python 3.10.6 64-bit",
   "language": "python",
   "name": "python3"
  },
  "language_info": {
   "codemirror_mode": {
    "name": "ipython",
    "version": 3
   },
   "file_extension": ".py",
   "mimetype": "text/x-python",
   "name": "python",
   "nbconvert_exporter": "python",
   "pygments_lexer": "ipython3",
   "version": "3.10.6"
  },
  "orig_nbformat": 4,
  "vscode": {
   "interpreter": {
    "hash": "a67050e51f37ee318787cd6f6659ced37578cad24929ee7b5d71356b58a876d7"
   }
  }
 },
 "nbformat": 4,
 "nbformat_minor": 2
}
