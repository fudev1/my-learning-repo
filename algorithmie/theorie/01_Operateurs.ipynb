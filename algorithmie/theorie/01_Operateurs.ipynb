{
 "cells": [
  {
   "cell_type": "markdown",
   "metadata": {},
   "source": [
    "\n",
    "# Les opérateurs\n",
    "\n",
    "### Arithmétique\n",
    "- \\+ Addition\n",
    "- \\- Soustraction\n",
    "- \\* Multiplication\n",
    "- / Division réel\n",
    "- // Division entière\n",
    "- % Modulo (Reste de la division entière)\n",
    "- ** Exposant"
   ]
  },
  {
   "cell_type": "code",
   "execution_count": 5,
   "metadata": {},
   "outputs": [
    {
     "name": "stdout",
     "output_type": "stream",
     "text": [
      "7\n",
      "3\n",
      "10\n",
      "2.5\n",
      "2\n",
      "1\n",
      "25\n"
     ]
    }
   ],
   "source": [
    "from math import sqrt\n",
    "import math\n",
    "\n",
    "print(5 + 2) #7\n",
    "\n",
    "print(5 - 2) #3\n",
    "\n",
    "print(5 * 2) #10\n",
    "\n",
    "print(5 / 2) #2.5\n",
    "\n",
    "print(5 // 2) #2\n",
    "\n",
    "print(5 % 2) #1\n",
    "\n",
    "print(5 ** 2) #25\n",
    "\n",
    "math.sqrt(25) #5.0\n",
    "sqrt(25) #5.0"
   ]
  },
  {
   "cell_type": "markdown",
   "metadata": {},
   "source": [
    "\n",
    "### Comparaison\n",
    "\n",
    "Les opérateurs de comparaison retourne toujours un booléen\n",
    "\n",
    "- ***!=*** Différence\n",
    "- ***>*** Strictement supérieur\n",
    "- ***>=*** Supérieur ou égal\n",
    "- ***<*** Strictement inférieur\n",
    "- ***==*** Egalitée strict\n",
    "- ***<=*** Inférieur ou égal\n",
    "- ***in*** Test d'adhésion: Si \"x\" est contenu dans \"b\"\n",
    "- ***is*** Test d'identité"
   ]
  },
  {
   "cell_type": "code",
   "execution_count": 6,
   "metadata": {},
   "outputs": [
    {
     "name": "stdout",
     "output_type": "stream",
     "text": [
      "True\n",
      "False\n",
      "False\n",
      "True\n",
      "False\n",
      "True\n",
      "False\n",
      "True\n"
     ]
    }
   ],
   "source": [
    "print(3 == 3) #True\n",
    "\n",
    "print(3 != 3) #False\n",
    "\n",
    "print(3 < 3) #False\n",
    "\n",
    "print(3 <= 3) #True\n",
    "\n",
    "print(3 > 3) #False\n",
    "\n",
    "print(3 >= 3) #True\n",
    "\n",
    "print(\"x\" in \"y\") #False\n",
    "x = 2\n",
    "y = 2\n",
    "print(x is y) #True"
   ]
  },
  {
   "cell_type": "markdown",
   "metadata": {},
   "source": [
    "\n",
    "### Logique\n",
    "\n",
    "Les opérateur logique servent a tester plusieurs condition ensemble\n",
    "\n",
    "- ***and*** Vrai, si les deux valeurs sont vraies.\n",
    "- ***or*** Vrai, si au moins une des deux valeurs est vraie.\n",
    "- ***not*** L'inverse de la valeur.\n",
    "\n",
    "<img src=\"./images/OperateurLogique.png\">"
   ]
  },
  {
   "cell_type": "code",
   "execution_count": null,
   "metadata": {},
   "outputs": [
    {
     "name": "stdout",
     "output_type": "stream",
     "text": [
      "True\n",
      "False\n",
      "False\n",
      "True\n",
      "True\n",
      "False\n",
      "False\n",
      "True\n"
     ]
    }
   ],
   "source": [
    "print(True and True) #True\n",
    "print(True and False) #False\n",
    "print(False and False) #False\n",
    "\n",
    "print(True or True) #True\n",
    "print(True or False) #True\n",
    "print(False or False) #False\n",
    "\n",
    "print(not True) #False\n",
    "print(not False) #True"
   ]
  },
  {
   "cell_type": "markdown",
   "metadata": {},
   "source": [
    "### Affectation et opération\n",
    "\n",
    "Il existe une écriture raccourcie qui permet de réaliser une opération arithmétique combinée avec une affection\n",
    "\n",
    "- a += b → a = a + b\n",
    "- a -= b → a = a - b\n",
    "- a *= b → a = a * b\n",
    "\n",
    "    ..."
   ]
  },
  {
   "cell_type": "code",
   "execution_count": null,
   "metadata": {},
   "outputs": [
    {
     "name": "stdout",
     "output_type": "stream",
     "text": [
      "5\n",
      "8\n",
      "3\n",
      "6\n"
     ]
    }
   ],
   "source": [
    "x = 5\n",
    "print(x)\n",
    "x += 3\n",
    "print(x) #8\n",
    "x -= 5\n",
    "print(x) #3\n",
    "x *= 2\n",
    "print(x) #6"
   ]
  }
 ],
 "metadata": {
  "kernelspec": {
   "display_name": "Python 3.10.7 64-bit",
   "language": "python",
   "name": "python3"
  },
  "language_info": {
   "codemirror_mode": {
    "name": "ipython",
    "version": 3
   },
   "file_extension": ".py",
   "mimetype": "text/x-python",
   "name": "python",
   "nbconvert_exporter": "python",
   "pygments_lexer": "ipython3",
   "version": "3.12.0"
  },
  "orig_nbformat": 4,
  "vscode": {
   "interpreter": {
    "hash": "7e168570828710a148ba09f352d7c33ed75c4cd63cb120c8b9c86c6aa99438c9"
   }
  }
 },
 "nbformat": 4,
 "nbformat_minor": 2
}
