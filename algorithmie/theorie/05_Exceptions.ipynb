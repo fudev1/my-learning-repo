{
 "cells": [
  {
   "cell_type": "markdown",
   "metadata": {},
   "source": [
    "\n",
    "# Gestion des erreurs\n",
    "\n",
    "### try... except\n",
    "\n",
    "La gestion des erreurs permet d'intercepter les exceptions pour les traiter.\n",
    "\n",
    "En python, il y a quatre types de blocs prévu pour cela : **try**, **except**, **else** et **finally**\n",
    "\n",
    "```Python\n",
    "try:\n",
    "    print(\"Code à risque\")\n",
    "except:\n",
    "    print(\"Une exception a été levée\")\n",
    "else:\n",
    "    print(\"Aucune exception rencontrée\")\n",
    "finally:\n",
    "    print(\"Code toujours executé\")\n",
    "```\n",
    "\n",
    "### Multiples << except >>\n",
    "\n",
    "Le bloc << except >> est spécialisable pour gérer uniquement un type d'erreur.\n",
    "\n",
    "Il est possible de gérer plusieurs types d'erreurs, à l'aide de multiple **except**.\n",
    "\n",
    "Dans ce cas,l'exception va passer de **except** en **except**, à la recherche du premier bloc compatible avec l'exception.\n"
   ]
  },
  {
   "cell_type": "code",
   "execution_count": 3,
   "metadata": {},
   "outputs": [
    {
     "name": "stdout",
     "output_type": "stream",
     "text": [
      "Calcul d'une division\n",
      "La division par zéro est impossible\n"
     ]
    }
   ],
   "source": [
    "print(\"Calcul d'une division\")\n",
    "try:\n",
    "    nb = int(input(\"Nombre : \"))\n",
    "    div = int(input(\"Diviseur : \"))\n",
    "\n",
    "    result = nb / div\n",
    "    print(\"Le résultat est\", result)\n",
    "except ValueError:\n",
    "    print(\"Valeur incorrect\")\n",
    "except ZeroDivisionError:\n",
    "    print(\"La division par zéro est impossible\")\n"
   ]
  }
 ],
 "metadata": {
  "kernelspec": {
   "display_name": "Python 3.10.6 64-bit",
   "language": "python",
   "name": "python3"
  },
  "language_info": {
   "codemirror_mode": {
    "name": "ipython",
    "version": 3
   },
   "file_extension": ".py",
   "mimetype": "text/x-python",
   "name": "python",
   "nbconvert_exporter": "python",
   "pygments_lexer": "ipython3",
   "version": "3.10.7"
  },
  "orig_nbformat": 4,
  "vscode": {
   "interpreter": {
    "hash": "a67050e51f37ee318787cd6f6659ced37578cad24929ee7b5d71356b58a876d7"
   }
  }
 },
 "nbformat": 4,
 "nbformat_minor": 2
}
