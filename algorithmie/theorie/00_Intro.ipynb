{
 "cells": [
  {
   "cell_type": "markdown",
   "metadata": {},
   "source": [
    "\n",
    "# Les variables\n",
    "\n",
    "- Un nom\n",
    "- Un type\n",
    "- Une valeur\n",
    "- Une référence mémoire\n",
    "\n",
    "*Les constantes n'éxistent pas en python*"
   ]
  },
  {
   "cell_type": "code",
   "execution_count": 1,
   "metadata": {},
   "outputs": [],
   "source": [
    "\n",
    "my_string = \"Hello\"\n",
    "\n",
    "number = 6\n",
    "\n",
    "float_number = 5.5\n",
    "\n",
    "boolean = True\n",
    "\n",
    "x, y = 4, 5"
   ]
  },
  {
   "cell_type": "markdown",
   "metadata": {},
   "source": [
    "\n",
    "### Ecrire dans la console\n",
    "\n",
    "La fonction a utiliser pour afficher du texte dans la console est \\<< print(...)\". >>\n",
    "\n",
    "Lorsqu'il y a plusieurs valeurs, un séparateur (espace par défaut) est ajouté.<br>\n",
    "En fin de ligne, un saut de ligne est ajouté."
   ]
  },
  {
   "cell_type": "code",
   "execution_count": 2,
   "metadata": {},
   "outputs": [
    {
     "name": "stdout",
     "output_type": "stream",
     "text": [
      "Hello\n",
      "6 True\n",
      "4 et 5.\n",
      "ma string est Hello et mon nombre est 24\n",
      "toto\n"
     ]
    }
   ],
   "source": [
    "print(my_string)\n",
    "\n",
    "print(number, boolean)\n",
    "\n",
    "print(x, y, sep = \" et \", end = \".\\n\")\n",
    "\n",
    "print(f\"ma string est {my_string} et mon nombre est {number*x}\")\n",
    "\n",
    "print(\"toto\")"
   ]
  },
  {
   "cell_type": "markdown",
   "metadata": {},
   "source": [
    "\n",
    "### Lire dans la console\n",
    "\n",
    "Pour interagir avec l'utilisateur il est possible de lire la saisie de la console.\n",
    "\n",
    "Pour cela, il faut utiliser la methode \\<< input(\"message\") >>, qui va permettre> de récupérer la valeur entrée par l' utilisateur en format texte(string)."
   ]
  },
  {
   "cell_type": "code",
   "execution_count": 3,
   "metadata": {},
   "outputs": [
    {
     "name": "stdout",
     "output_type": "stream",
     "text": [
      "Coucou\n"
     ]
    }
   ],
   "source": [
    "\n",
    "my_string = input(\"Veuillez entrer une valeur...\")\n",
    "print(my_string)"
   ]
  },
  {
   "cell_type": "markdown",
   "metadata": {},
   "source": [
    "<p>&#x26A0 Attention, la valeur récupérée sera toujours de type texte,<br>\n",
    "une conversion est nécessaire pour la transformer en un type voulu.</p>"
   ]
  },
  {
   "cell_type": "code",
   "execution_count": 3,
   "metadata": {},
   "outputs": [
    {
     "name": "stdout",
     "output_type": "stream",
     "text": [
      "42\n",
      "3.14\n",
      "True\n"
     ]
    }
   ],
   "source": [
    "\n",
    "number = int(input(\"Entrez un nombre : \"))\n",
    "\n",
    "print(number)\n",
    "\n",
    "float_number = float(input(\"Entrez un nombre à virgule : \"))\n",
    "\n",
    "print(float_number)\n",
    "\n",
    "boolean = bool(input(\"Vrai ou faux ? \"))\n",
    "\n",
    "print(boolean)"
   ]
  }
 ],
 "metadata": {
  "kernelspec": {
   "display_name": "Python 3.10.7 64-bit",
   "language": "python",
   "name": "python3"
  },
  "language_info": {
   "codemirror_mode": {
    "name": "ipython",
    "version": 3
   },
   "file_extension": ".py",
   "mimetype": "text/x-python",
   "name": "python",
   "nbconvert_exporter": "python",
   "pygments_lexer": "ipython3",
   "version": "3.12.4"
  },
  "orig_nbformat": 4,
  "vscode": {
   "interpreter": {
    "hash": "7e168570828710a148ba09f352d7c33ed75c4cd63cb120c8b9c86c6aa99438c9"
   }
  }
 },
 "nbformat": 4,
 "nbformat_minor": 2
}
