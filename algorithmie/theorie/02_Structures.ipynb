{
 "cells": [
  {
   "cell_type": "markdown",
   "metadata": {},
   "source": [
    "# La structure conditionnelle\n",
    "\n",
    "### Le \\<<if, elif, else>>\n",
    "\n",
    "Ces structures permettent d'exécuter des opérations en fonction de condition.\n",
    "- ***if*** Condition à tester (*obligatoire*)\n",
    "- ***elif*** Condition à tester si la précédente est fausse (*optionnel et répétable*)\n",
    "- ***else*** Traitement si aucune condition validée (*optionnel*)\n",
    "\n",
    "```Python\n",
    "if condition:\n",
    "    ...\n",
    "elif condition:\n",
    "    ...\n",
    "else:\n",
    "    ...\n",
    "```"
   ]
  },
  {
   "cell_type": "code",
   "execution_count": 1,
   "metadata": {},
   "outputs": [
    {
     "name": "stdout",
     "output_type": "stream",
     "text": [
      "x est supérieur à 5\n"
     ]
    }
   ],
   "source": [
    "x = 6\n",
    "if x > 5:\n",
    "    print(\"x est supérieur à 5\")\n",
    "elif x > 3:\n",
    "    print(\"x est supérieur à 3 et plus petit que 5\")\n",
    "else:\n",
    "    print(\"x est plus petit que 3 et plus petit que 5\")"
   ]
  },
  {
   "cell_type": "markdown",
   "metadata": {},
   "source": [
    "Switch (match)"
   ]
  },
  {
   "cell_type": "code",
   "execution_count": 2,
   "metadata": {},
   "outputs": [
    {
     "name": "stdout",
     "output_type": "stream",
     "text": [
      "Jour non valide\n",
      "Qui fese fi?\n",
      "Au revoir!\n"
     ]
    }
   ],
   "source": [
    "jour = int(input(\"Jour : \"))\n",
    "\n",
    "match jour:\n",
    "    case 1:\n",
    "        print(\"Lundi\")\n",
    "    case 2:\n",
    "        print(\"Mardi\")\n",
    "    case 3:\n",
    "        print(\"Mercredi\")\n",
    "    case 4:\n",
    "        print(\"Jeudi\")\n",
    "    case 5:\n",
    "        print(\"Vendredi\")\n",
    "    case 6:\n",
    "        print(\"Samedi\")\n",
    "    case 7:\n",
    "        print(\"Dimanche\")\n",
    "    case _:\n",
    "        print(\"Jour non valide\")\n",
    "\n",
    "legumineuse = int(input(\"1 : Tomate | 2 : Potimaron | 3 : butternut : \"))\n",
    "\n",
    "match legumineuse:\n",
    "    case 1:\n",
    "        print(\"Le prix des tomates est de 1€\")\n",
    "    case 2 | 3:\n",
    "        print(\"Le prix des cucurbitacées est de 2€\")\n",
    "    case _:\n",
    "        print(\"Qui fese fi?\")\n",
    "\n",
    "print(\"Au revoir!\")"
   ]
  },
  {
   "cell_type": "markdown",
   "metadata": {},
   "source": [
    "# Les structures itératives\n",
    "\n",
    "### La structure \\<< while >>\n",
    "\n",
    "La boucle \\<< while >> permet de répéter un ensemble d'opérations tant que la condition vérifiée est vraie.\n",
    "\n",
    "```Python\n",
    "count = 0\n",
    "while count < 10\n",
    "    ...\n",
    "    count += 1\n",
    "```\n",
    "\n",
    "<p>&#x26A0 Attention à la boucle infinie, vous devez toujours maîtriser la condition de la boucle!</p>\n"
   ]
  },
  {
   "cell_type": "code",
   "execution_count": 3,
   "metadata": {},
   "outputs": [
    {
     "name": "stdout",
     "output_type": "stream",
     "text": [
      "0\n",
      "1\n",
      "2\n",
      "3\n",
      "4\n",
      "5\n",
      "6\n",
      "7\n",
      "8\n",
      "9\n",
      "Finito\n"
     ]
    }
   ],
   "source": [
    "count = 0\n",
    "\n",
    "while count < 10:\n",
    "    print(count)\n",
    "    count+=1\n",
    "print(\"Finito\")\n",
    "\n",
    "\n"
   ]
  },
  {
   "cell_type": "markdown",
   "metadata": {},
   "source": [
    "# Les différentes structures \\<< for >>\n",
    "\n",
    "Les structures \\<< for >> sont les boucles permettant de parcourir les collections.\n",
    "\n",
    "En python, il en existe 3 cas différents:\n",
    "\n",
    "- Utiliser directement avec une collection\n",
    "- A l'aide de la méthode \\<<enumerate(...)>>\n",
    "- A l'aide de la méthode \\<<range(...)>>\n",
    "\n",
    "### Avec une collection :\n"
   ]
  },
  {
   "cell_type": "code",
   "execution_count": 3,
   "metadata": {},
   "outputs": [
    {
     "name": "stdout",
     "output_type": "stream",
     "text": [
      "A B C "
     ]
    }
   ],
   "source": [
    "collection = [\"A\",\"B\",\"C\"]\n",
    "for element in collection:\n",
    "    print(element)"
   ]
  },
  {
   "cell_type": "markdown",
   "metadata": {},
   "source": [
    "\n",
    "### Méthode <<enumerate(collection)>>\n"
   ]
  },
  {
   "cell_type": "code",
   "execution_count": 2,
   "metadata": {},
   "outputs": [
    {
     "name": "stdout",
     "output_type": "stream",
     "text": [
      "Index : 0\n",
      "Valeur : X\n",
      "Index : 1\n",
      "Valeur : Y\n",
      "Index : 2\n",
      "Valeur : Z\n"
     ]
    }
   ],
   "source": [
    "collection = [\"X\",\"Y\",\"Z\"]\n",
    "for i, val in enumerate(collection):\n",
    "    print(\"Index :\", i)\n",
    "    print(\"Valeur :\", val)"
   ]
  },
  {
   "cell_type": "markdown",
   "metadata": {},
   "source": [
    "\n",
    "### Méthode <<range(start, stop, step)>>\n",
    "\n",
    "Elle est utilisable de 3 manières différentes :\n",
    "\n",
    "→ Avec tout les paramètres<br>\n",
    "→ Avec le \"start\" et le \"stop\". Le step par défaut est 1<br>\n",
    "→ Avec uniquement le \"stop\". Le \"start\" par défaut est 0<br>"
   ]
  },
  {
   "cell_type": "code",
   "execution_count": 1,
   "metadata": {},
   "outputs": [
    {
     "name": "stdout",
     "output_type": "stream",
     "text": [
      "0 : A\n",
      "1 : B\n",
      "2 : C\n",
      "3 : D\n",
      "4 : E\n",
      "3 : D\n",
      "4 : E\n",
      "0 : A\n",
      "1 : B\n",
      "2 : C\n"
     ]
    }
   ],
   "source": [
    "collection = [\"A\", \"B\", \"C\", \"D\", \"E\"]\n",
    "list = range(0,10,1)\n",
    "# range = [0,1,2,3,4,5,6,7,8,9]\n",
    "limite = len(collection)\n",
    "\n",
    "for i in range(0, limite, 1):\n",
    "    print(i, \":\", collection[i])\n",
    "\n",
    "for i in range(3, limite):\n",
    "    print(i, \":\", collection[i])\n",
    "\n",
    "for i in range(3):\n",
    "    print(i, \":\", collection[i])\n"
   ]
  }
 ],
 "metadata": {
  "kernelspec": {
   "display_name": "Python 3.10.7 64-bit",
   "language": "python",
   "name": "python3"
  },
  "language_info": {
   "codemirror_mode": {
    "name": "ipython",
    "version": 3
   },
   "file_extension": ".py",
   "mimetype": "text/x-python",
   "name": "python",
   "nbconvert_exporter": "python",
   "pygments_lexer": "ipython3",
   "version": "3.12.4"
  },
  "orig_nbformat": 4,
  "vscode": {
   "interpreter": {
    "hash": "7e168570828710a148ba09f352d7c33ed75c4cd63cb120c8b9c86c6aa99438c9"
   }
  }
 },
 "nbformat": 4,
 "nbformat_minor": 2
}
