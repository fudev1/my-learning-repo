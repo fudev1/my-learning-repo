{
 "cells": [
  {
   "cell_type": "markdown",
   "metadata": {},
   "source": [
    "\n",
    "# Les collections\n",
    "\n",
    "Les collections permettent de regrouper dans une seule variable un ensemble d'informations.\n",
    "\n",
    "En python, il en existe plusieurs\n",
    "\n",
    "<img src=\"./images/collection.png\"></img>\n",
    "\n",
    "### La collection << list >>\n",
    "\n",
    "En python, une liste s'écrit entre crocher \"[]\""
   ]
  },
  {
   "cell_type": "code",
   "execution_count": null,
   "metadata": {},
   "outputs": [],
   "source": [
    "# Création de la liste\n",
    "my_list = [\"Riri\", \"Fifi\", \"Loulou\"]\n",
    "\n",
    "# Utilisation du constructeur pour créer la liste\n",
    "my_list2 = list((\"Riri\", \"Fafa\", \"Loulou\")) # /!\\ Double parenthèse\n",
    "\n",
    "# Création d'une liste vide\n",
    "my_list_vide_1 = []\n",
    "my_list_vide_2 = list()\n",
    "\n",
    "# Récupération d'un élément\n",
    "elem = my_list[1]\n",
    "\n",
    "# Modification d'une valeur\n",
    "my_list[2] = \"Zaza\"\n",
    "\n",
    "# Ajouter un élément\n",
    "my_list.append(\"Donald\")\n",
    "my_list.insert(1, \"Daisy\")\n",
    "\n",
    "# Supprimer un élément\n",
    "my_list.remove(\"fifi\")\n",
    "my_list.pop() # Si l'index n' est pas défini, le dernier est supprimé\n",
    "\n",
    "# Supprimer tout les éléments\n",
    "my_list.clear()"
   ]
  },
  {
   "cell_type": "markdown",
   "metadata": {},
   "source": [
    "\n",
    "### Récupérer un range\n",
    "\n",
    "Le langage python permet de récupérer un ensembles d'éléments au sein d'une liste"
   ]
  },
  {
   "cell_type": "code",
   "execution_count": null,
   "metadata": {},
   "outputs": [],
   "source": [
    "tab = [4,7,9,3,8,2,6,5]\n",
    "#      0 1 2 3 4 5 6 7\n",
    "\n",
    "# Récupérer de l'indice 2 à l'indice 5 (non compris)\n",
    "tab[2:5] # → [9,3,8]\n",
    "\n",
    "# Récupérer jusqu'à l'indice 3\n",
    "tab[:3] # → 4,7,9\n",
    "\n",
    "# Récupérer à partir de l'indice 4\n",
    "tab[4:] # → [8,2,6,5]\n",
    "\n",
    "# Moyen rapide de créer un clone\n",
    "tab[:] # => [4,7,9,3,8,2,6,5]\n",
    "\n",
    "# Le troisième argument représente le pas\n",
    "tab[2:6:2] # → [9,8]"
   ]
  },
  {
   "cell_type": "markdown",
   "metadata": {},
   "source": [
    "\n",
    "### La collection << tuple >>\n",
    "\n",
    "En python, un tuple s'écrit entre parenthèses \"()\""
   ]
  },
  {
   "cell_type": "code",
   "execution_count": 1,
   "metadata": {},
   "outputs": [],
   "source": [
    "# Création du tuple\n",
    "my_tuple = (\"Riri\", \"Fifi\", \"Loulou\")\n",
    "\n",
    "# Utilisation du constructeur pour créer le tuple\n",
    "my_tuple_2 = tuple((\"Riri\", \"Fifi\", \"Loulou\")) # /!\\ Double parenthèse\n",
    "\n",
    "# Création d'un tuple vide\n",
    "my_tuple_vide = tuple()\n",
    "\n",
    "# Récupération d'un élément\n",
    "elem = my_tuple[1]\n",
    "\n",
    "# Modification impossible\n",
    "\n",
    "# Ajout ou suppression non autorisé!"
   ]
  },
  {
   "cell_type": "markdown",
   "metadata": {},
   "source": [
    "\n",
    "### La collection << set >>\n",
    "\n",
    "En python, un set s'écrit entre accolade \"{}\""
   ]
  },
  {
   "cell_type": "code",
   "execution_count": null,
   "metadata": {},
   "outputs": [],
   "source": [
    "# Création du set\n",
    "my_set = {\"Riri\", \"Fafa\", \"Loulou\"}\n",
    "\n",
    "# Utilisation du constructeur pour créer le set (déconseillé)\n",
    "my_set_2 = set((\"Riri\", \"Fafa\", \"Loulou\")) # /!\\ Double parenthèse\n",
    "\n",
    "#Création d'un set vide\n",
    "my_set_vide = set() # /!\\ L'écriture {} ne crée pas un \"set\" !\n",
    "\n",
    "# Récupération ou modification d'un élément impossible\n",
    "\n",
    "# Ajouter un élément\n",
    "my_set.add(\"Balthazar\")\n",
    "\n",
    "# Ajouter plusieur élément\n",
    "my_set.update([\"Donald\", \"Daisy\"])\n",
    "\n",
    "# Supprimer un élément\n",
    "my_set.remove(\"Riri\")\n",
    "my_set.remove(\"Fifi\") # Ne provoque pas d'érreur si l'élément est manquant\n",
    "my_set.pop()          # Supprime le dernier élément\n",
    "\n",
    "# Supprimer tout les éléments\n",
    "my_set.clear()"
   ]
  },
  {
   "cell_type": "markdown",
   "metadata": {},
   "source": [
    "\n",
    "### La collection << dict >> (Dictionaries)\n",
    "\n",
    "En python, un dictionnaire s'écrit entre accolade avec des combinaisons \"clef : valeur\""
   ]
  },
  {
   "cell_type": "code",
   "execution_count": 4,
   "metadata": {},
   "outputs": [
    {
     "name": "stdout",
     "output_type": "stream",
     "text": [
      "Duck\n"
     ]
    }
   ],
   "source": [
    "# Création du dictionnaire\n",
    "my_dictionaries = {\n",
    "    \"firstname\" : \"Donald\",\n",
    "    \"lastname\" : \"Duck\",\n",
    "    \"age\" : 90\n",
    "}\n",
    "\n",
    "# Utilisation du constructeur pour créer le dictionnaire\n",
    "my_dictionaries_2 = dict(firstname = \"Donald\", lastname = \"Duck\", age = 90)\n",
    "\n",
    "# Création d'un dictionnaire vide\n",
    "my_dictionaries_vide_1 = {}\n",
    "my_dictionaries_vide_2 = dict()\n",
    "\n",
    "# Récupération d'une valeur sur base de la clef\n",
    "firstname = my_dictionaries[\"firstname\"]\n",
    "lastname = my_dictionaries.get(\"lastname\")\n",
    "\n",
    "# Modification d'une valeur\n",
    "my_dictionaries[\"age\"] = 90\n",
    "\n",
    "# Ajouter une \"clef : valeur\"\n",
    "my_dictionaries[\"caractere\"] = \"Colérique\"\n",
    "\n",
    "# Supprimer un élément\n",
    "my_dictionaries.pop(\"age\")\n",
    "my_dictionaries.popitem() # Supprime le dernier élément ajouté\n",
    "\n",
    "# Supprimer tout les éléments\n",
    "my_dictionaries.clear()"
   ]
  }
 ],
 "metadata": {
  "kernelspec": {
   "display_name": "Python 3.10.6 64-bit",
   "language": "python",
   "name": "python3"
  },
  "language_info": {
   "codemirror_mode": {
    "name": "ipython",
    "version": 3
   },
   "file_extension": ".py",
   "mimetype": "text/x-python",
   "name": "python",
   "nbconvert_exporter": "python",
   "pygments_lexer": "ipython3",
   "version": "3.10.7"
  },
  "orig_nbformat": 4,
  "vscode": {
   "interpreter": {
    "hash": "a67050e51f37ee318787cd6f6659ced37578cad24929ee7b5d71356b58a876d7"
   }
  }
 },
 "nbformat": 4,
 "nbformat_minor": 2
}
